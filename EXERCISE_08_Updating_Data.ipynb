{
 "cells": [
  {
   "cell_type": "markdown",
   "id": "3e108d57",
   "metadata": {},
   "source": [
    "## Updating Data Exercise\n",
    "\n",
    "**This exercise uses the `netflix_titles.csv` dataset**"
   ]
  },
  {
   "cell_type": "code",
   "execution_count": 1,
   "id": "19ac5eb7",
   "metadata": {},
   "outputs": [],
   "source": [
    "# read in the netflix_titles.csv dataset.  Make sure to tell pandas to use the correct separator character!\n",
    "import pandas as pd\n",
    "netflix = pd.read_csv(\"data/netflix_titles.csv\", sep=\"|\")"
   ]
  },
  {
   "cell_type": "code",
   "execution_count": 2,
   "id": "8f99135f",
   "metadata": {},
   "outputs": [],
   "source": [
    "# set the index to be the \"show_id\" (inplace)\n",
    "netflix.set_index(\"show_id\", inplace=True)"
   ]
  },
  {
   "cell_type": "code",
   "execution_count": 3,
   "id": "4c922c11",
   "metadata": {},
   "outputs": [],
   "source": [
    "# Find the row with the id of s2202 and set its director to \"Greg Whiteley\"\n",
    "netflix.loc[\"s2202\", \"director\"] = \"Greg Whiteley\""
   ]
  },
  {
   "cell_type": "code",
   "execution_count": 4,
   "id": "95a016b3",
   "metadata": {},
   "outputs": [],
   "source": [
    "#Update the \"duration\" of the shows with index s2881 and s3601 to be \"GONE TOO SOON\"\n",
    "netflix.loc[[\"s2881\", \"s3601\"], \"duration\"] = \"GONE TOO SOON\""
   ]
  },
  {
   "cell_type": "code",
   "execution_count": 135,
   "id": "69aca115",
   "metadata": {},
   "outputs": [],
   "source": [
    "#rename the release_year column to \"release_yr\" in place\n",
    "netflix.rename(columns={\"release_year\": \"release_yr\"}, inplace=True)\n"
   ]
  },
  {
   "cell_type": "code",
   "execution_count": 133,
   "id": "37056b26",
   "metadata": {},
   "outputs": [],
   "source": [
    "# Find the show called \"Evil\"\n",
    "# Change its index label to s6666 inplace\n",
    "netflix[netflix[\"title\"] == \"Evil\"]\n",
    "netflix.rename({\"s1907\": \"s6666\"}, inplace=True)"
   ]
  },
  {
   "cell_type": "code",
   "execution_count": 5,
   "id": "36f40d03",
   "metadata": {},
   "outputs": [
    {
     "data": {
      "text/plain": [
       "show_id\n",
       "s1       PG-13\n",
       "s2       TV-MA\n",
       "s3       TV-MA\n",
       "s4       TV-MA\n",
       "s5       TV-MA\n",
       "         ...  \n",
       "s8803        R\n",
       "s8804    TV-Y7\n",
       "s8805        R\n",
       "s8806       PG\n",
       "s8807    TV-14\n",
       "Name: rating, Length: 8807, dtype: object"
      ]
     },
     "execution_count": 5,
     "metadata": {},
     "output_type": "execute_result"
    }
   ],
   "source": [
    "# In the rating column, please replace all instances of \"UR\" and \"NR\" with \"No Rating\".  Don't do it inplace!\n",
    "netflix[\"rating\"].replace([\"NR\", \"UR\"], \"No Rating\")"
   ]
  },
  {
   "cell_type": "code",
   "execution_count": 7,
   "id": "ec64d4b5",
   "metadata": {},
   "outputs": [],
   "source": [
    "# Add a new column \"is_fav\" and set it to False for all rows\n",
    "# Update the \"is_fav\" column to True for the titles in my list of favs (provided below)\n",
    "favs = [\"Young Royals\", \"Dark\", \"Big Mouth\", \"BoJack Horseman\", \"The Queen's Gambit\", \"American Vandal\", \"Russian Doll\", \"Godless\"]\n",
    "netflix[\"is_fav\"] = False\n",
    "netflix.loc[netflix[\"title\"].isin(favs), \"is_fav\"] = True"
   ]
  },
  {
   "cell_type": "code",
   "execution_count": 8,
   "id": "266bd546",
   "metadata": {},
   "outputs": [
    {
     "data": {
      "text/plain": [
       "is_fav\n",
       "False    8799\n",
       "True        8\n",
       "Name: count, dtype: int64"
      ]
     },
     "execution_count": 8,
     "metadata": {},
     "output_type": "execute_result"
    }
   ],
   "source": [
    "netflix[\"is_fav\"].value_counts()"
   ]
  },
  {
   "cell_type": "code",
   "execution_count": null,
   "id": "af8b672d",
   "metadata": {},
   "outputs": [],
   "source": []
  }
 ],
 "metadata": {
  "kernelspec": {
   "display_name": "Python 3 (ipykernel)",
   "language": "python",
   "name": "python3"
  },
  "language_info": {
   "codemirror_mode": {
    "name": "ipython",
    "version": 3
   },
   "file_extension": ".py",
   "mimetype": "text/x-python",
   "name": "python",
   "nbconvert_exporter": "python",
   "pygments_lexer": "ipython3",
   "version": "3.11.5"
  }
 },
 "nbformat": 4,
 "nbformat_minor": 5
}
